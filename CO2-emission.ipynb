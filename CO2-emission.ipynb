{
 "cells": [
  {
   "cell_type": "code",
   "execution_count": 1,
   "id": "50a33489",
   "metadata": {},
   "outputs": [],
   "source": [
    "import pandas as pd\n",
    "import matplotlib.pyplot as plt\n"
   ]
  },
  {
   "cell_type": "code",
   "execution_count": 2,
   "id": "85080127",
   "metadata": {},
   "outputs": [],
   "source": [
    "data = pd.read_csv('F:\\\\CODING\\\\DATASETS\\\\CO2-EMISSION.csv',encoding='latin1')"
   ]
  },
  {
   "cell_type": "code",
   "execution_count": 19,
   "id": "4fd15b97",
   "metadata": {},
   "outputs": [
    {
     "name": "stdout",
     "output_type": "stream",
     "text": [
      "<class 'pandas.core.frame.DataFrame'>\n",
      "RangeIndex: 59620 entries, 0 to 59619\n",
      "Data columns (total 9 columns):\n",
      " #   Column               Non-Null Count  Dtype  \n",
      "---  ------               --------------  -----  \n",
      " 0   Country              59620 non-null  object \n",
      " 1   Code                 57452 non-null  object \n",
      " 2   Calling Code         56097 non-null  object \n",
      " 3   Year                 59620 non-null  int64  \n",
      " 4   CO2 emission (Tons)  59620 non-null  float64\n",
      " 5   Population(2022)     53116 non-null  float64\n",
      " 6   Area                 55284 non-null  float64\n",
      " 7   % of World           55284 non-null  object \n",
      " 8   Density(km2)         53116 non-null  object \n",
      "dtypes: float64(3), int64(1), object(5)\n",
      "memory usage: 4.1+ MB\n"
     ]
    }
   ],
   "source": [
    "data.info()"
   ]
  },
  {
   "cell_type": "code",
   "execution_count": 14,
   "id": "2b971f34",
   "metadata": {},
   "outputs": [
    {
     "name": "stdout",
     "output_type": "stream",
     "text": [
      "536580\n",
      "(59620, 9)\n"
     ]
    }
   ],
   "source": [
    "print(data.size)\n",
    "print(data.shape)"
   ]
  },
  {
   "cell_type": "code",
   "execution_count": 3,
   "id": "bc774e81",
   "metadata": {},
   "outputs": [],
   "source": [
    "co2_ind = data[(data['Country'] == 'India') & data['CO2 emission (Tons)'] != 0]"
   ]
  },
  {
   "cell_type": "code",
   "execution_count": 34,
   "id": "2d27c072",
   "metadata": {},
   "outputs": [
    {
     "data": {
      "text/html": [
       "<div>\n",
       "<style scoped>\n",
       "    .dataframe tbody tr th:only-of-type {\n",
       "        vertical-align: middle;\n",
       "    }\n",
       "\n",
       "    .dataframe tbody tr th {\n",
       "        vertical-align: top;\n",
       "    }\n",
       "\n",
       "    .dataframe thead th {\n",
       "        text-align: right;\n",
       "    }\n",
       "</style>\n",
       "<table border=\"1\" class=\"dataframe\">\n",
       "  <thead>\n",
       "    <tr style=\"text-align: right;\">\n",
       "      <th></th>\n",
       "      <th>Country</th>\n",
       "      <th>Code</th>\n",
       "      <th>Calling Code</th>\n",
       "      <th>Year</th>\n",
       "      <th>CO2 emission (Tons)</th>\n",
       "      <th>Population(2022)</th>\n",
       "      <th>Area</th>\n",
       "      <th>% of World</th>\n",
       "      <th>Density(km2)</th>\n",
       "    </tr>\n",
       "  </thead>\n",
       "  <tbody>\n",
       "    <tr>\n",
       "      <th>24385</th>\n",
       "      <td>India</td>\n",
       "      <td>IN</td>\n",
       "      <td>91</td>\n",
       "      <td>2016</td>\n",
       "      <td>4.431507e+10</td>\n",
       "      <td>1.417173e+09</td>\n",
       "      <td>3287590.0</td>\n",
       "      <td>2.00%</td>\n",
       "      <td>431/km²</td>\n",
       "    </tr>\n",
       "    <tr>\n",
       "      <th>24386</th>\n",
       "      <td>India</td>\n",
       "      <td>IN</td>\n",
       "      <td>91</td>\n",
       "      <td>2017</td>\n",
       "      <td>4.674892e+10</td>\n",
       "      <td>1.417173e+09</td>\n",
       "      <td>3287590.0</td>\n",
       "      <td>2.00%</td>\n",
       "      <td>431/km²</td>\n",
       "    </tr>\n",
       "    <tr>\n",
       "      <th>24387</th>\n",
       "      <td>India</td>\n",
       "      <td>IN</td>\n",
       "      <td>91</td>\n",
       "      <td>2018</td>\n",
       "      <td>4.934873e+10</td>\n",
       "      <td>1.417173e+09</td>\n",
       "      <td>3287590.0</td>\n",
       "      <td>2.00%</td>\n",
       "      <td>431/km²</td>\n",
       "    </tr>\n",
       "    <tr>\n",
       "      <th>24388</th>\n",
       "      <td>India</td>\n",
       "      <td>IN</td>\n",
       "      <td>91</td>\n",
       "      <td>2019</td>\n",
       "      <td>5.197470e+10</td>\n",
       "      <td>1.417173e+09</td>\n",
       "      <td>3287590.0</td>\n",
       "      <td>2.00%</td>\n",
       "      <td>431/km²</td>\n",
       "    </tr>\n",
       "    <tr>\n",
       "      <th>24389</th>\n",
       "      <td>India</td>\n",
       "      <td>IN</td>\n",
       "      <td>91</td>\n",
       "      <td>2020</td>\n",
       "      <td>5.441649e+10</td>\n",
       "      <td>1.417173e+09</td>\n",
       "      <td>3287590.0</td>\n",
       "      <td>2.00%</td>\n",
       "      <td>431/km²</td>\n",
       "    </tr>\n",
       "  </tbody>\n",
       "</table>\n",
       "</div>"
      ],
      "text/plain": [
       "      Country Code Calling Code  Year  CO2 emission (Tons)  Population(2022)  \\\n",
       "24385   India   IN           91  2016         4.431507e+10      1.417173e+09   \n",
       "24386   India   IN           91  2017         4.674892e+10      1.417173e+09   \n",
       "24387   India   IN           91  2018         4.934873e+10      1.417173e+09   \n",
       "24388   India   IN           91  2019         5.197470e+10      1.417173e+09   \n",
       "24389   India   IN           91  2020         5.441649e+10      1.417173e+09   \n",
       "\n",
       "            Area % of World Density(km2)  \n",
       "24385  3287590.0      2.00%      431/km²  \n",
       "24386  3287590.0      2.00%      431/km²  \n",
       "24387  3287590.0      2.00%      431/km²  \n",
       "24388  3287590.0      2.00%      431/km²  \n",
       "24389  3287590.0      2.00%      431/km²  "
      ]
     },
     "execution_count": 34,
     "metadata": {},
     "output_type": "execute_result"
    }
   ],
   "source": [
    "co2_ind.tail()"
   ]
  },
  {
   "cell_type": "code",
   "execution_count": 4,
   "id": "251c0d36",
   "metadata": {},
   "outputs": [],
   "source": [
    "co2_em = data[\"CO2 emission (Tons)\"].to_numpy()"
   ]
  },
  {
   "cell_type": "code",
   "execution_count": 5,
   "id": "db357199",
   "metadata": {},
   "outputs": [],
   "source": [
    "year = data[\"Year\"].to_numpy()"
   ]
  },
  {
   "cell_type": "code",
   "execution_count": 6,
   "id": "29d22a7d",
   "metadata": {},
   "outputs": [
    {
     "data": {
      "image/png": "[encoded data removed]",
      "text/plain": [
       "<Figure size 432x288 with 1 Axes>"
      ]
     },
     "metadata": {
      "needs_background": "light"
     },
     "output_type": "display_data"
    }
   ],
   "source": [
    "plt.bar(year, co2_em)\n",
    "plt.show()"
   ]
  },
  {
   "cell_type": "code",
   "execution_count": null,
   "id": "549e90b0",
   "metadata": {},
   "outputs": [],
   "source": []
  }
 ],
 "metadata": {
  "kernelspec": {
   "display_name": "Python 3 (ipykernel)",
   "language": "python",
   "name": "python3"
  },
  "language_info": {
   "codemirror_mode": {
    "name": "ipython",
    "version": 3
   },
   "file_extension": ".py",
   "mimetype": "text/x-python",
   "name": "python",
   "nbconvert_exporter": "python",
   "pygments_lexer": "ipython3",
   "version": "3.9.12"
  }
 },
 "nbformat": 4,
 "nbformat_minor": 5
}
